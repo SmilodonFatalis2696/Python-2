{
 "cells": [
  {
   "cell_type": "markdown",
   "metadata": {},
   "source": [
    "Task: Search a pattern of active site (XXXXXX) of isocitrate lyase enzyme and give the answer in the\n",
    "following manner: “Isocitrate lyase (FASTA ID) contains its active site (PROSITE ID) starting from Nth\n",
    "position: zzzXXXXXXzzz”"
   ]
  },
  {
   "cell_type": "code",
   "execution_count": 48,
   "metadata": {},
   "outputs": [
    {
     "name": "stdout",
     "output_type": "stream",
     "text": [
      "Help on function search in module re:\n",
      "\n",
      "search(pattern, string, flags=0)\n",
      "    Scan through string looking for a match to the pattern, returning\n",
      "    a match object, or None if no match was found.\n",
      "\n"
     ]
    }
   ],
   "source": [
    "#preprocessing: reading the file and set the pattern\n",
    "import re\n",
    "fh=open('/Users/GuloLynx/Downloads/icl.fasta')\n",
    "pattern='K[RK]CGH[LMQR]'\n",
    "header = []\n",
    "seq=[]\n",
    "for line in fh:\n",
    "    if line.startswith('>'):\n",
    "        header=line\n",
    "    else:\n",
    "        seq.append(line[:-1])\n",
    "help(re.search)\n",
    "#looking for FASTA ID\n",
    "id=re.search('[A-Z1-9]+', header).group(0)\n",
    "all=''.join(seq)"
   ]
  },
  {
   "cell_type": "code",
   "execution_count": 47,
   "metadata": {},
   "outputs": [
    {
     "name": "stdout",
     "output_type": "stream",
     "text": [
      "Isocitrate lyase P9WKK7 contains its active site PS00161 at 3273:3279 position: aseKKCGHLGGK\n"
     ]
    }
   ],
   "source": [
    "#for output\n",
    "for match in re.finditer(pattern, overall):\n",
    "    start=match.start()    #tried to use span() but there was an error\n",
    "    end=match.end()\n",
    "    site=match.group()\n",
    "    site_id=all[start-3:start].lower()+site+all[end:end+3]\n",
    "\n",
    "    print('Isocitrate lyase {} contains its active site PS00161 at {}:{} position: {}'.format(id, start, end, site_id))"
   ]
  },
  {
   "cell_type": "code",
   "execution_count": null,
   "metadata": {},
   "outputs": [],
   "source": []
  }
 ],
 "metadata": {
  "kernelspec": {
   "display_name": "Python 2",
   "language": "python",
   "name": "python2"
  },
  "language_info": {
   "codemirror_mode": {
    "name": "ipython",
    "version": 2
   },
   "file_extension": ".py",
   "mimetype": "text/x-python",
   "name": "python",
   "nbconvert_exporter": "python",
   "pygments_lexer": "ipython2",
   "version": "2.7.16"
  }
 },
 "nbformat": 4,
 "nbformat_minor": 2
}
