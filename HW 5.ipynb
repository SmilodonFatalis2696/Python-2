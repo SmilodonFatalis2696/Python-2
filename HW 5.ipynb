{
 "cells": [
  {
   "cell_type": "code",
   "execution_count": null,
   "metadata": {},
   "outputs": [],
   "source": [
    "rule all: #expand our code to the set of files\n",
    "    input: expand(\"input/{file}\")\n",
    "    output: expand(output/{file in range(1,4)\"))} \n",
    "                           # 4 files in input\n",
    "rule generate:\n",
    "    input: 'input/{file}'\n",
    "    output: 'output/{file}'\n",
    "    run:\n",
    "      with open(f'{input}', \"r\") as inp, open(f'{output}', \"w\") as out:   #r is for reading, w-writinng\n",
    "            result = {}\n",
    "            for i in inp:\n",
    "                for i in line.rstrip('\\n'): #rstrip returns copy of the strip\n",
    "                    result[i] = line.count(i) #append lines from files one by one\n",
    "            for key, value in sorted(result.items()): #sort and extract info from dictionary \n",
    "                out.write(key + \": \" + str(value) + '\\n') #present as requires in the task\n",
    "                           \n",
    "    "
   ]
  }
 ],
 "metadata": {
  "kernelspec": {
   "display_name": "Python 3",
   "language": "python",
   "name": "python3"
  },
  "language_info": {
   "codemirror_mode": {
    "name": "ipython",
    "version": 3
   },
   "file_extension": ".py",
   "mimetype": "text/x-python",
   "name": "python",
   "nbconvert_exporter": "python",
   "pygments_lexer": "ipython3",
   "version": "3.7.6"
  }
 },
 "nbformat": 4,
 "nbformat_minor": 4
}
