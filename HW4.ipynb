{
 "cells": [
  {
   "cell_type": "markdown",
   "metadata": {},
   "source": [
    "## Hw4 Dun Angelica"
   ]
  },
  {
   "cell_type": "code",
   "execution_count": 13,
   "metadata": {},
   "outputs": [
    {
     "name": "stdout",
     "output_type": "stream",
     "text": [
      "WMQS\n"
     ]
    }
   ],
   "source": [
    "L=[3524.8542,\n",
    "3710.9335,\n",
    "3841.974,\n",
    "3970.0326,\n",
    "4057.0646]\n",
    "\n",
    "monoisotopic_masses = {71.0371:'A',\n",
    "                       103.0092:'C',\n",
    "                       115.0270:'D',\n",
    "                       129.0426:'E',\n",
    "                       147.06841:'F',\n",
    "                       57.02146:'G',\n",
    "                       137.05891:'H',\n",
    "                       113.0841:'I',\n",
    "                       128.0950:'K',\n",
    "                       113.0841:'L',\n",
    "                       131.0405:'M',\n",
    "                       114.0430:'N',\n",
    "                       97.0528:'P',\n",
    "                       128.0586:'Q',\n",
    "                       156.1011:'R',\n",
    "                       87.0320:'S',\n",
    "                       101.0477:'T',\n",
    "                       99.0684:'V',\n",
    "                       186.0793:'W',\n",
    "                       163.0633:'Y'}\n",
    "\n",
    "rounded_masses = []\n",
    "for i in range(len(L)-1): \n",
    "    fragment_mass = round(L[i+1]-L[i],4)\n",
    "    rounded_masses.append(fragment_mass)\n",
    "prot=''\n",
    "for i in rounded_masses:\n",
    "  \n",
    "    prot += monoisotopic_masses[i]\n",
    "print(prot)\n"
   ]
  },
  {
   "cell_type": "code",
   "execution_count": null,
   "metadata": {},
   "outputs": [],
   "source": []
  }
 ],
 "metadata": {
  "kernelspec": {
   "display_name": "Python 3",
   "language": "python",
   "name": "python3"
  },
  "language_info": {
   "codemirror_mode": {
    "name": "ipython",
    "version": 3
   },
   "file_extension": ".py",
   "mimetype": "text/x-python",
   "name": "python",
   "nbconvert_exporter": "python",
   "pygments_lexer": "ipython3",
   "version": "3.7.7"
  }
 },
 "nbformat": 4,
 "nbformat_minor": 4
}
